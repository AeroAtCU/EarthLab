{
 "cells": [
  {
   "cell_type": "code",
   "execution_count": 2,
   "metadata": {},
   "outputs": [],
   "source": [
    "# Purpose: compare 3 planet datasets from the same satellites, from 2 consecutive days\n",
    "\n",
    "# For general data processing\n",
    "import shapely\n",
    "import numpy as np\n",
    "\n",
    "# For general file I/O\n",
    "import rasterio as rio\n",
    "import sys\n",
    "import os.path\n",
    "\n",
    "# For parsing xml files, which hold lat long data\n",
    "import xml.etree.ElementTree as ET\n",
    "from xml.dom import minidom\n",
    "\n",
    "# For viewing images\n",
    "import sys\n",
    "import skimage.io\n",
    "import skimage.viewer\n",
    "from matplotlib import pyplot as plt"
   ]
  },
  {
   "cell_type": "code",
   "execution_count": 21,
   "metadata": {},
   "outputs": [],
   "source": [
    "def import_xml(file_base, file_ext=\"_3B_AnalyticMS_metadata.xml\"):\n",
    "    # Import all data from a specifified xml file; assume ./data if absolute path not specified\n",
    "    if '\\\\' in file_base or '/' in file_base:\n",
    "        return ET.parse(file_base)\n",
    "    \n",
    "    base_path = sys.path[0]\n",
    "    data_folder = 'data'\n",
    "    abs_file_path = os.path.join(base_path, data_folder, file_base, (file_base + file_ext))\n",
    "    return ET.parse(abs_file_path)\n",
    "\n",
    "   "
   ]
  },
  {
   "cell_type": "code",
   "execution_count": 61,
   "metadata": {},
   "outputs": [
    {
     "name": "stdout",
     "output_type": "stream",
     "text": [
      "<class 'xml.etree.ElementTree.Element'>\n",
      "<_elementtree._element_iterator object at 0x000001E53B144678>\n",
      "['39.9611798465', '-104.419338069']\n"
     ]
    }
   ],
   "source": [
    "tree = import_xml(\"20190924_173722_67_1061\")\n",
    "root = tree.getroot()\n",
    "#print(root.tag)\n",
    "#print(root.attrib)\n",
    "\n",
    "#for a in root:\n",
    "#    print(a.tag, a.attrib)\n",
    "    \n",
    "\n",
    "topLeftLatitude = root[3][0][2][0][0]\n",
    "print(type(topLeftLatitude))\n",
    "print(topLeftLatitude.iter())\n",
    "topLeftLatitude.text\n",
    "\n",
    "topLeft = [root[3][0][2][0][0].text, root[3][0][2][0][1].text]\n",
    "print(topLeft)"
   ]
  },
  {
   "cell_type": "code",
   "execution_count": 63,
   "metadata": {},
   "outputs": [
    {
     "name": "stdout",
     "output_type": "stream",
     "text": [
      "<Element '{http://www.opengis.net/gml}target' at 0x000001E53B411E08>\n",
      "<Element '{http://schemas.planet.com/ps/v1/planet_product_metadata_geocorrected_level}Footprint' at 0x000001E53B411A98>\n",
      "<Element '{http://schemas.planet.com/ps/v1/planet_product_metadata_geocorrected_level}geographicLocation' at 0x000001E53B4249F8>\n",
      "<Element '{http://schemas.planet.com/ps/v1/planet_product_metadata_geocorrected_level}topLeft' at 0x000001E53B4244A8>\n"
     ]
    }
   ],
   "source": [
    "print(root[3])\n",
    "print(root[3][0])\n",
    "print(root[3][0][2])\n",
    "print(root[3][0][2][0])\n"
   ]
  },
  {
   "cell_type": "code",
   "execution_count": null,
   "metadata": {},
   "outputs": [],
   "source": [
    "xmldoc = import_xml(\"20190924_173722_67_1061\")\n",
    "eobs = xmldoc.getElementsByTagName(\"adsf\") # Earth Observation database\n",
    "xmldoc.iter()"
   ]
  }
 ],
 "metadata": {
  "kernelspec": {
   "display_name": "Python 3",
   "language": "python",
   "name": "python3"
  },
  "language_info": {
   "codemirror_mode": {
    "name": "ipython",
    "version": 3
   },
   "file_extension": ".py",
   "mimetype": "text/x-python",
   "name": "python",
   "nbconvert_exporter": "python",
   "pygments_lexer": "ipython3",
   "version": "3.7.3"
  }
 },
 "nbformat": 4,
 "nbformat_minor": 2
}
